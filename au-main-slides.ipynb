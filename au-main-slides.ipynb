{
 "metadata": {
  "name": "au-main-slides"
 },
 "nbformat": 3,
 "nbformat_minor": 0,
 "worksheets": [
  {
   "cells": [
    {
     "cell_type": "markdown",
     "metadata": {
      "slideshow": {
       "slide_type": "slide"
      }
     },
     "source": [
      "Pythonic Iterators and Generators\n",
      "---------------------------------\n",
      "\n",
      "Lakshman Prasad\n",
      "\n",
      "[@becomingGuru](http://twitter.com/becomingGuru)\n",
      "\n",
      "Pycon AU 2013, Hobart"
     ]
    },
    {
     "cell_type": "markdown",
     "metadata": {
      "slideshow": {
       "slide_type": "notes"
      }
     },
     "source": [
      "Work for Mc, Mc does MC. I work for a fairly newly created division which provides technology solutions to them.\n",
      "\n",
      "My primary expertise has been in Python eco system and it's set of tools. Although I have had to work significantly on JS recently.\n",
      "\n",
      "I have never done an intro level talk. But when I write such answers on SO, they get popular. Filling in after the great session by Peter is hard. But I'll see what I can do. This talk starts from an intro level and then gets into fairly advanced levels. So if you are an advanced user, stay back and we will hopefully have something for discussion.\n",
      "\n",
      "I had a great time at the conference BTW. Such a nice city, so well organised, nice lunch. Since you just had lunch - Lets go through some qs. Dont worry if you are not able to answer the questions in the warmup exercise, by the end of the session, hopefully, you'll be in a position to."
     ]
    },
    {
     "cell_type": "markdown",
     "metadata": {
      "slideshow": {
       "slide_type": "slide"
      }
     },
     "source": [
      "### Dictionary of states mapped to capitals"
     ]
    },
    {
     "cell_type": "code",
     "collapsed": false,
     "input": [
      "states = ['NSW', 'NT', 'QLD', 'SA', 'TAS', 'VIC', 'WA']"
     ],
     "language": "python",
     "metadata": {
      "slideshow": {
       "slide_type": "skip"
      }
     },
     "outputs": [],
     "prompt_number": 7
    },
    {
     "cell_type": "code",
     "collapsed": false,
     "input": [
      "print states"
     ],
     "language": "python",
     "metadata": {
      "slideshow": {
       "slide_type": "fragment"
      }
     },
     "outputs": [
      {
       "output_type": "stream",
       "stream": "stdout",
       "text": [
        "['NSW', 'NT', 'QLD', 'SA', 'TAS', 'VIC', 'WA']\n"
       ]
      }
     ],
     "prompt_number": 8
    },
    {
     "cell_type": "code",
     "collapsed": false,
     "input": [
      "capitals = ['Sydney', 'Darwin', 'Brisbane', 'Adelaide', 'Hobart', 'Melbourne', 'Perth']"
     ],
     "language": "python",
     "metadata": {
      "slideshow": {
       "slide_type": "skip"
      }
     },
     "outputs": [],
     "prompt_number": 9
    },
    {
     "cell_type": "code",
     "collapsed": false,
     "input": [
      "print capitals"
     ],
     "language": "python",
     "metadata": {
      "slideshow": {
       "slide_type": "fragment"
      }
     },
     "outputs": [
      {
       "output_type": "stream",
       "stream": "stdout",
       "text": [
        "['Sydney', 'Darwin', 'Brisbane', 'Adelaide', 'Hobart', 'Melbourne', 'Perth']\n"
       ]
      }
     ],
     "prompt_number": 10
    },
    {
     "cell_type": "code",
     "collapsed": false,
     "input": [
      "zip(states,capitals)"
     ],
     "language": "python",
     "metadata": {
      "slideshow": {
       "slide_type": "fragment"
      }
     },
     "outputs": [
      {
       "metadata": {},
       "output_type": "pyout",
       "prompt_number": 11,
       "text": [
        "[('NSW', 'Sydney'),\n",
        " ('NT', 'Darwin'),\n",
        " ('QLD', 'Brisbane'),\n",
        " ('SA', 'Adelaide'),\n",
        " ('TAS', 'Hobart'),\n",
        " ('VIC', 'Melbourne'),\n",
        " ('WA', 'Perth')]"
       ]
      }
     ],
     "prompt_number": 11
    },
    {
     "cell_type": "code",
     "collapsed": false,
     "input": [
      "dict(zip(states,capitals))"
     ],
     "language": "python",
     "metadata": {
      "slideshow": {
       "slide_type": "fragment"
      }
     },
     "outputs": [
      {
       "metadata": {},
       "output_type": "pyout",
       "prompt_number": 12,
       "text": [
        "{'NSW': 'Sydney',\n",
        " 'NT': 'Darwin',\n",
        " 'QLD': 'Brisbane',\n",
        " 'SA': 'Adelaide',\n",
        " 'TAS': 'Hobart',\n",
        " 'VIC': 'Melbourne',\n",
        " 'WA': 'Perth'}"
       ]
      }
     ],
     "prompt_number": 12
    },
    {
     "cell_type": "code",
     "collapsed": false,
     "input": [
      "state_capitals = _\n",
      "state_capitals"
     ],
     "language": "python",
     "metadata": {
      "slideshow": {
       "slide_type": "skip"
      }
     },
     "outputs": [
      {
       "metadata": {},
       "output_type": "pyout",
       "prompt_number": 13,
       "text": [
        "{'NSW': 'Sydney',\n",
        " 'NT': 'Darwin',\n",
        " 'QLD': 'Brisbane',\n",
        " 'SA': 'Adelaide',\n",
        " 'TAS': 'Hobart',\n",
        " 'VIC': 'Melbourne',\n",
        " 'WA': 'Perth'}"
       ]
      }
     ],
     "prompt_number": 13
    },
    {
     "cell_type": "markdown",
     "metadata": {
      "slideshow": {
       "slide_type": "slide"
      }
     },
     "source": [
      "### Flatten lists"
     ]
    },
    {
     "cell_type": "code",
     "collapsed": false,
     "input": [
      "import itertools, operator\n",
      "list_of_lists = [['A','B','C'],['D','E'],['F'],['G','H']]"
     ],
     "language": "python",
     "metadata": {
      "slideshow": {
       "slide_type": "skip"
      }
     },
     "outputs": [],
     "prompt_number": 14
    },
    {
     "cell_type": "code",
     "collapsed": false,
     "input": [
      "print list_of_lists"
     ],
     "language": "python",
     "metadata": {
      "slideshow": {
       "slide_type": "fragment"
      }
     },
     "outputs": [
      {
       "output_type": "stream",
       "stream": "stdout",
       "text": [
        "[['A', 'B', 'C'], ['D', 'E'], ['F'], ['G', 'H']]\n"
       ]
      }
     ],
     "prompt_number": 15
    },
    {
     "cell_type": "code",
     "collapsed": false,
     "input": [
      "sum(list_of_lists,[])"
     ],
     "language": "python",
     "metadata": {
      "slideshow": {
       "slide_type": "fragment"
      }
     },
     "outputs": [
      {
       "metadata": {},
       "output_type": "pyout",
       "prompt_number": 16,
       "text": [
        "['A', 'B', 'C', 'D', 'E', 'F', 'G', 'H']"
       ]
      }
     ],
     "prompt_number": 16
    },
    {
     "cell_type": "code",
     "collapsed": false,
     "input": [
      "reduce(operator.add, map(list, list_of_lists))"
     ],
     "language": "python",
     "metadata": {
      "slideshow": {
       "slide_type": "fragment"
      }
     },
     "outputs": [
      {
       "metadata": {},
       "output_type": "pyout",
       "prompt_number": 17,
       "text": [
        "['A', 'B', 'C', 'D', 'E', 'F', 'G', 'H']"
       ]
      }
     ],
     "prompt_number": 17
    },
    {
     "cell_type": "code",
     "collapsed": false,
     "input": [
      "list(itertools.chain(*list_of_lists))"
     ],
     "language": "python",
     "metadata": {
      "slideshow": {
       "slide_type": "fragment"
      }
     },
     "outputs": [
      {
       "metadata": {},
       "output_type": "pyout",
       "prompt_number": 18,
       "text": [
        "['A', 'B', 'C', 'D', 'E', 'F', 'G', 'H']"
       ]
      }
     ],
     "prompt_number": 18
    },
    {
     "cell_type": "code",
     "collapsed": false,
     "input": [
      "list(itertools.chain.from_iterable(list_of_lists))"
     ],
     "language": "python",
     "metadata": {
      "slideshow": {
       "slide_type": "fragment"
      }
     },
     "outputs": [
      {
       "metadata": {},
       "output_type": "pyout",
       "prompt_number": 19,
       "text": [
        "['A', 'B', 'C', 'D', 'E', 'F', 'G', 'H']"
       ]
      }
     ],
     "prompt_number": 19
    },
    {
     "cell_type": "code",
     "collapsed": false,
     "input": [
      "[x for each_list in list_of_lists for x in each_list]"
     ],
     "language": "python",
     "metadata": {
      "slideshow": {
       "slide_type": "fragment"
      }
     },
     "outputs": [
      {
       "metadata": {},
       "output_type": "pyout",
       "prompt_number": 20,
       "text": [
        "['A', 'B', 'C', 'D', 'E', 'F', 'G', 'H']"
       ]
      }
     ],
     "prompt_number": 20
    },
    {
     "cell_type": "markdown",
     "metadata": {
      "slideshow": {
       "slide_type": "slide"
      }
     },
     "source": [
      "### Product of collections"
     ]
    },
    {
     "cell_type": "code",
     "collapsed": false,
     "input": [
      "a = list(\"abc\")\n",
      "b = range(1,3)\n",
      "print a, b"
     ],
     "language": "python",
     "metadata": {
      "slideshow": {
       "slide_type": "fragment"
      }
     },
     "outputs": [
      {
       "output_type": "stream",
       "stream": "stdout",
       "text": [
        "['a', 'b', 'c'] [1, 2]\n"
       ]
      }
     ],
     "prompt_number": 21
    },
    {
     "cell_type": "code",
     "collapsed": false,
     "input": [
      "list(itertools.product(a,b))"
     ],
     "language": "python",
     "metadata": {
      "slideshow": {
       "slide_type": "fragment"
      }
     },
     "outputs": [
      {
       "metadata": {},
       "output_type": "pyout",
       "prompt_number": 22,
       "text": [
        "[('a', 1), ('a', 2), ('b', 1), ('b', 2), ('c', 1), ('c', 2)]"
       ]
      }
     ],
     "prompt_number": 22
    },
    {
     "cell_type": "markdown",
     "metadata": {
      "slideshow": {
       "slide_type": "slide"
      }
     },
     "source": [
      "### Powerset of a range of values"
     ]
    },
    {
     "cell_type": "code",
     "collapsed": false,
     "input": [
      "elements = range(3)\n",
      "list(itertools.combinations(elements,2))"
     ],
     "language": "python",
     "metadata": {
      "slideshow": {
       "slide_type": "fragment"
      }
     },
     "outputs": [
      {
       "metadata": {},
       "output_type": "pyout",
       "prompt_number": 23,
       "text": [
        "[(0, 1), (0, 2), (1, 2)]"
       ]
      }
     ],
     "prompt_number": 23
    },
    {
     "cell_type": "code",
     "collapsed": false,
     "input": [
      "list(itertools.chain.from_iterable(itertools.combinations(elements, r) for r in range(len(elements)+1)))"
     ],
     "language": "python",
     "metadata": {
      "slideshow": {
       "slide_type": "fragment"
      }
     },
     "outputs": [
      {
       "metadata": {},
       "output_type": "pyout",
       "prompt_number": 24,
       "text": [
        "[(), (0,), (1,), (2,), (0, 1), (0, 2), (1, 2), (0, 1, 2)]"
       ]
      }
     ],
     "prompt_number": 24
    },
    {
     "cell_type": "markdown",
     "metadata": {
      "slideshow": {
       "slide_type": "slide"
      }
     },
     "source": [
      "### Standard for loop"
     ]
    },
    {
     "cell_type": "code",
     "collapsed": false,
     "input": [
      "alist = range(5)"
     ],
     "language": "python",
     "metadata": {
      "slideshow": {
       "slide_type": "skip"
      }
     },
     "outputs": [],
     "prompt_number": 25
    },
    {
     "cell_type": "code",
     "collapsed": false,
     "input": [
      "i=0\n",
      "while i<len(alist):\n",
      "    print alist[i]\n",
      "    i+=1"
     ],
     "language": "python",
     "metadata": {
      "slideshow": {
       "slide_type": "fragment"
      }
     },
     "outputs": [
      {
       "output_type": "stream",
       "stream": "stdout",
       "text": [
        "0\n",
        "1\n",
        "2\n",
        "3\n",
        "4\n"
       ]
      }
     ],
     "prompt_number": 26
    },
    {
     "cell_type": "code",
     "collapsed": false,
     "input": [
      "for i in range(len(alist)):\n",
      "    print alist[i]"
     ],
     "language": "python",
     "metadata": {
      "slideshow": {
       "slide_type": "fragment"
      }
     },
     "outputs": [
      {
       "output_type": "stream",
       "stream": "stdout",
       "text": [
        "0\n",
        "1\n",
        "2\n",
        "3\n",
        "4\n"
       ]
      }
     ],
     "prompt_number": 27
    },
    {
     "cell_type": "code",
     "collapsed": false,
     "input": [
      "for element in alist:\n",
      "    print element"
     ],
     "language": "python",
     "metadata": {
      "slideshow": {
       "slide_type": "fragment"
      }
     },
     "outputs": [
      {
       "output_type": "stream",
       "stream": "stdout",
       "text": [
        "0\n",
        "1\n",
        "2\n",
        "3\n",
        "4\n"
       ]
      }
     ],
     "prompt_number": 28
    },
    {
     "cell_type": "markdown",
     "metadata": {
      "slideshow": {
       "slide_type": "notes"
      }
     },
     "source": [
      "- Standard for loop. Everyone learns first. Works on all languages\n",
      "- Python programmers know that, there is no need to explicitly increment.\n",
      "- The best is what it truly can be. Developer Happiness. This is what we need. This is what we have\n",
      "- This happens because of some of the abstractions that are built around iteration and these are really helpful. We can leverage these abstractions in our own code and be direct - The Python Forloop does a lot. - gets a value, assigns it a name and then performs ops on the element.\n",
      "- The iterator gets to decide what value it produces next."
     ]
    },
    {
     "cell_type": "markdown",
     "metadata": {
      "slideshow": {
       "slide_type": "slide"
      }
     },
     "source": [
      "### Iterables"
     ]
    },
    {
     "cell_type": "code",
     "collapsed": false,
     "input": [
      "for el in range(5):\n",
      "    print el"
     ],
     "language": "python",
     "metadata": {
      "slideshow": {
       "slide_type": "fragment"
      }
     },
     "outputs": [
      {
       "output_type": "stream",
       "stream": "stdout",
       "text": [
        "0\n",
        "1\n",
        "2\n",
        "3\n",
        "4\n"
       ]
      }
     ],
     "prompt_number": 29
    },
    {
     "cell_type": "code",
     "collapsed": false,
     "input": [
      "print [el for el in 'PYCON AU']"
     ],
     "language": "python",
     "metadata": {
      "slideshow": {
       "slide_type": "fragment"
      }
     },
     "outputs": [
      {
       "output_type": "stream",
       "stream": "stdout",
       "text": [
        "['P', 'Y', 'C', 'O', 'N', ' ', 'A', 'U']\n"
       ]
      }
     ],
     "prompt_number": 30
    },
    {
     "cell_type": "code",
     "collapsed": false,
     "input": [
      "class Fib:\n",
      "    '''iterator that yields numbers in the Fibonacci sequence'''\n",
      "\n",
      "    def __init__(self, max):\n",
      "        self.max = max\n",
      "\n",
      "    def __iter__(self):\n",
      "        self.a = 0\n",
      "        self.b = 1\n",
      "        return self\n",
      "\n",
      "    def __next__(self):\n",
      "        fib = self.a\n",
      "        if fib > self.max:\n",
      "            raise StopIteration\n",
      "        self.a, self.b = self.b, self.a + self.b\n",
      "        return fib"
     ],
     "language": "python",
     "metadata": {
      "slideshow": {
       "slide_type": "fragment"
      }
     },
     "outputs": [],
     "prompt_number": 31
    },
    {
     "cell_type": "markdown",
     "metadata": {
      "slideshow": {
       "slide_type": "notes"
      }
     },
     "source": [
      "- When you loop over a string\n",
      "- for loop in python is a basic construct for looping over the collections\n",
      "- iterable is something than you can loop on. - It has exactly 2 requirements.\n",
      "- To make something iterable you dont have to ask before, nth, next 2 or anything.\n",
      "- That is what makes it flexible and use it in all of the places - files, characters of string, lists.\n"
     ]
    },
    {
     "cell_type": "markdown",
     "metadata": {
      "slideshow": {
       "slide_type": "slide"
      }
     },
     "source": [
      "### Stdlib provides many iterators"
     ]
    },
    {
     "cell_type": "code",
     "collapsed": false,
     "input": [
      "for element in state_capitals:\n",
      "    print element"
     ],
     "language": "python",
     "metadata": {
      "slideshow": {
       "slide_type": "fragment"
      }
     },
     "outputs": [
      {
       "output_type": "stream",
       "stream": "stdout",
       "text": [
        "VIC\n",
        "WA\n",
        "TAS\n",
        "QLD\n",
        "NT\n",
        "SA\n",
        "NSW\n"
       ]
      }
     ],
     "prompt_number": 32
    },
    {
     "cell_type": "code",
     "collapsed": false,
     "input": [
      "list(state_capitals.itervalues())"
     ],
     "language": "python",
     "metadata": {
      "slideshow": {
       "slide_type": "fragment"
      }
     },
     "outputs": [
      {
       "metadata": {},
       "output_type": "pyout",
       "prompt_number": 33,
       "text": [
        "['Melbourne', 'Perth', 'Hobart', 'Brisbane', 'Darwin', 'Adelaide', 'Sydney']"
       ]
      }
     ],
     "prompt_number": 33
    },
    {
     "cell_type": "code",
     "collapsed": false,
     "input": [
      "state_capitals.iteritems()"
     ],
     "language": "python",
     "metadata": {
      "slideshow": {
       "slide_type": "fragment"
      }
     },
     "outputs": [
      {
       "metadata": {},
       "output_type": "pyout",
       "prompt_number": 34,
       "text": [
        "<dictionary-itemiterator at 0x10a7dba48>"
       ]
      }
     ],
     "prompt_number": 34
    },
    {
     "cell_type": "code",
     "collapsed": false,
     "input": [
      "list(state_capitals.iteritems())"
     ],
     "language": "python",
     "metadata": {
      "slideshow": {
       "slide_type": "fragment"
      }
     },
     "outputs": [
      {
       "metadata": {},
       "output_type": "pyout",
       "prompt_number": 35,
       "text": [
        "[('VIC', 'Melbourne'),\n",
        " ('WA', 'Perth'),\n",
        " ('TAS', 'Hobart'),\n",
        " ('QLD', 'Brisbane'),\n",
        " ('NT', 'Darwin'),\n",
        " ('SA', 'Adelaide'),\n",
        " ('NSW', 'Sydney')]"
       ]
      }
     ],
     "prompt_number": 35
    },
    {
     "cell_type": "markdown",
     "metadata": {
      "slideshow": {
       "slide_type": "notes"
      }
     },
     "source": [
      "- Dicts dont have any predetermined order\n",
      "- One of the reasons I am casting to list is because of the printability"
     ]
    },
    {
     "cell_type": "markdown",
     "metadata": {
      "slideshow": {
       "slide_type": "slide"
      }
     },
     "source": [
      "### More Iterators in the stdlib"
     ]
    },
    {
     "cell_type": "code",
     "collapsed": false,
     "input": [
      "import os\n",
      "files = os.walk('/tmp/')\n",
      "print list(files)"
     ],
     "language": "python",
     "metadata": {
      "slideshow": {
       "slide_type": "fragment"
      }
     },
     "outputs": [
      {
       "output_type": "stream",
       "stream": "stdout",
       "text": [
        "[('/tmp/', ['launch-4tjRHK', 'launch-ImFEtV', 'launch-IT4WB7', 'launchd-154.htCYYc', 'launchd-4955.spsh1H', 'launchd-5166.bkhfvD', 'manifest'], ['manifest.tar.gz']), ('/tmp/launch-4tjRHK', [], ['Listeners']), ('/tmp/launch-ImFEtV', [], ['Render']), ('/tmp/launch-IT4WB7', [], ['Apple_Ubiquity_Message', 'Apple_Ubiquity_Message.server.lck']), ('/tmp/launchd-154.htCYYc', [], ['sock']), ('/tmp/manifest', [], ['manifest.xml', 'public.pem', 'signature'])]\n"
       ]
      }
     ],
     "prompt_number": 62
    },
    {
     "cell_type": "code",
     "collapsed": false,
     "input": [
      "for line in file('/Users/lpd/gh/aut/dickens.txt'):\n",
      "    print line"
     ],
     "language": "python",
     "metadata": {
      "slideshow": {
       "slide_type": "fragment"
      }
     },
     "outputs": [
      {
       "output_type": "stream",
       "stream": "stdout",
       "text": [
        "It was the best of the times\n",
        "\n",
        "It was the worst of the times\n",
        "\n",
        "\n",
        "\n"
       ]
      }
     ],
     "prompt_number": 37
    },
    {
     "cell_type": "markdown",
     "metadata": {
      "slideshow": {
       "slide_type": "notes"
      }
     },
     "source": [
      "- File system is a 2d data structure\n",
      "- A file can be seen as a collection of lines. No need to readline in a while loop.\n",
      "- Brings back to the interesting note that was discussed earlier - you cannot get to the 10th line directly before reading the one. "
     ]
    },
    {
     "cell_type": "markdown",
     "metadata": {
      "slideshow": {
       "slide_type": "slide"
      }
     },
     "source": [
      "### Python consumes iterators in many places"
     ]
    },
    {
     "cell_type": "code",
     "collapsed": false,
     "input": [
      "list(xrange(5))"
     ],
     "language": "python",
     "metadata": {
      "slideshow": {
       "slide_type": "fragment"
      }
     },
     "outputs": [
      {
       "metadata": {},
       "output_type": "pyout",
       "prompt_number": 64,
       "text": [
        "[0, 1, 2, 3, 4]"
       ]
      }
     ],
     "prompt_number": 64
    },
    {
     "cell_type": "code",
     "collapsed": false,
     "input": [
      "import random"
     ],
     "language": "python",
     "metadata": {
      "slideshow": {
       "slide_type": "skip"
      }
     },
     "outputs": [],
     "prompt_number": 65
    },
    {
     "cell_type": "code",
     "collapsed": false,
     "input": [
      "max((random.randrange(10,1000) for i in range(5)))"
     ],
     "language": "python",
     "metadata": {
      "slideshow": {
       "slide_type": "fragment"
      }
     },
     "outputs": [
      {
       "metadata": {},
       "output_type": "pyout",
       "prompt_number": 69,
       "text": [
        "816"
       ]
      }
     ],
     "prompt_number": 69
    },
    {
     "cell_type": "code",
     "collapsed": false,
     "input": [
      "print ('\\n').join(list(\"Hobart\"))"
     ],
     "language": "python",
     "metadata": {
      "slideshow": {
       "slide_type": "fragment"
      }
     },
     "outputs": [
      {
       "output_type": "stream",
       "stream": "stdout",
       "text": [
        "H\n",
        "o\n",
        "b\n",
        "a\n",
        "r\n",
        "t\n"
       ]
      }
     ],
     "prompt_number": 71
    },
    {
     "cell_type": "code",
     "collapsed": false,
     "input": [
      "sum(range(10))"
     ],
     "language": "python",
     "metadata": {
      "slideshow": {
       "slide_type": "fragment"
      }
     },
     "outputs": [
      {
       "metadata": {},
       "output_type": "pyout",
       "prompt_number": 77,
       "text": [
        "45"
       ]
      }
     ],
     "prompt_number": 77
    },
    {
     "cell_type": "markdown",
     "metadata": {
      "slideshow": {
       "slide_type": "notes"
      }
     },
     "source": [
      "- You dont have to do the looping explicitly. Its abstracted."
     ]
    },
    {
     "cell_type": "markdown",
     "metadata": {
      "slideshow": {
       "slide_type": "slide"
      }
     },
     "source": [
      "### Custom Iterators"
     ]
    },
    {
     "cell_type": "code",
     "collapsed": false,
     "input": [
      "class Card(object):\n",
      "    \n",
      "    def __init__(self, rank, suit):\n",
      "        FACE_CARD = {11: 'J', 12: 'Q', 13: 'K'}\n",
      "        self.suit = suit\n",
      "        self.rank = rank if rank <=10 else FACE_CARD[rank]\n",
      "\n",
      "    def name(self):\n",
      "        return self.__unicode__()\n",
      "        \n",
      "    def __unicode__(self):\n",
      "        return \"%s%s\" % (self.rank, self.suit)\n",
      "    \n",
      "class Deck(object):\n",
      "\n",
      "    def __init__(self):\n",
      "        self.cards = []\n",
      "        for s in ['S', 'D', 'C', 'H']:\n",
      "            for r in range(1, 14):\n",
      "                self.cards.append(Card(r, s))\n",
      "\n",
      "    def __iter__(self):\n",
      "        return iter(self.cards)"
     ],
     "language": "python",
     "metadata": {
      "slideshow": {
       "slide_type": "fragment"
      }
     },
     "outputs": [],
     "prompt_number": 38
    },
    {
     "cell_type": "code",
     "collapsed": false,
     "input": [
      "a_deck = Deck()\n",
      "(' ').join([card.name() for card in a_deck])"
     ],
     "language": "python",
     "metadata": {
      "slideshow": {
       "slide_type": "fragment"
      }
     },
     "outputs": [
      {
       "metadata": {},
       "output_type": "pyout",
       "prompt_number": 39,
       "text": [
        "'1S 2S 3S 4S 5S 6S 7S 8S 9S 10S JS QS KS 1D 2D 3D 4D 5D 6D 7D 8D 9D 10D JD QD KD 1C 2C 3C 4C 5C 6C 7C 8C 9C 10C JC QC KC 1H 2H 3H 4H 5H 6H 7H 8H 9H 10H JH QH KH'"
       ]
      }
     ],
     "prompt_number": 39
    },
    {
     "cell_type": "markdown",
     "metadata": {
      "slideshow": {
       "slide_type": "slide"
      }
     },
     "source": [
      "### Generators"
     ]
    },
    {
     "cell_type": "markdown",
     "metadata": {
      "slideshow": {
       "slide_type": "fragment"
      }
     },
     "source": [
      "- Lazy Evaluation\n"
     ]
    },
    {
     "cell_type": "code",
     "collapsed": false,
     "input": [
      "def gen():\n",
      "    yield 1\n",
      "\n",
      "g = gen()\n",
      "g.next()"
     ],
     "language": "python",
     "metadata": {
      "slideshow": {
       "slide_type": "fragment"
      }
     },
     "outputs": [
      {
       "metadata": {},
       "output_type": "pyout",
       "prompt_number": 40,
       "text": [
        "1"
       ]
      }
     ],
     "prompt_number": 40
    },
    {
     "cell_type": "code",
     "collapsed": false,
     "input": [
      "g.next()"
     ],
     "language": "python",
     "metadata": {
      "slideshow": {
       "slide_type": "fragment"
      }
     },
     "outputs": [
      {
       "ename": "StopIteration",
       "evalue": "",
       "output_type": "pyerr",
       "traceback": [
        "\u001b[0;31m---------------------------------------------------------------------------\u001b[0m\n\u001b[0;31mStopIteration\u001b[0m                             Traceback (most recent call last)",
        "\u001b[0;32m<ipython-input-41-d7e53364a9a7>\u001b[0m in \u001b[0;36m<module>\u001b[0;34m()\u001b[0m\n\u001b[0;32m----> 1\u001b[0;31m \u001b[0mg\u001b[0m\u001b[0;34m.\u001b[0m\u001b[0mnext\u001b[0m\u001b[0;34m(\u001b[0m\u001b[0;34m)\u001b[0m\u001b[0;34m\u001b[0m\u001b[0m\n\u001b[0m",
        "\u001b[0;31mStopIteration\u001b[0m: "
       ]
      }
     ],
     "prompt_number": 41
    },
    {
     "cell_type": "code",
     "collapsed": false,
     "input": [
      "itertools.count(20)"
     ],
     "language": "python",
     "metadata": {
      "slideshow": {
       "slide_type": "fragment"
      }
     },
     "outputs": [
      {
       "metadata": {},
       "output_type": "pyout",
       "prompt_number": 42,
       "text": [
        "count(20)"
       ]
      }
     ],
     "prompt_number": 42
    },
    {
     "cell_type": "code",
     "collapsed": false,
     "input": [
      "itertools.count()"
     ],
     "language": "python",
     "metadata": {
      "slideshow": {
       "slide_type": "fragment"
      }
     },
     "outputs": [
      {
       "metadata": {},
       "output_type": "pyout",
       "prompt_number": 63,
       "text": [
        "count(0)"
       ]
      }
     ],
     "prompt_number": 63
    },
    {
     "cell_type": "markdown",
     "metadata": {
      "slideshow": {
       "slide_type": "notes"
      }
     },
     "source": [
      "- Count can be infinite. There is no end, other then ofcourse the end of time.\n",
      "- You cannot ask the iterable how many values it has got."
     ]
    },
    {
     "cell_type": "markdown",
     "metadata": {
      "slideshow": {
       "slide_type": "slide"
      }
     },
     "source": [
      "### Generator Syntaxes"
     ]
    },
    {
     "cell_type": "code",
     "collapsed": false,
     "input": [
      "spade_cards = (card.name() for card in a_deck if card.suit=='S')\n",
      "spade_cards"
     ],
     "language": "python",
     "metadata": {
      "slideshow": {
       "slide_type": "fragment"
      }
     },
     "outputs": [
      {
       "metadata": {},
       "output_type": "pyout",
       "prompt_number": 43,
       "text": [
        "<generator object <genexpr> at 0x10a763500>"
       ]
      }
     ],
     "prompt_number": 43
    },
    {
     "cell_type": "code",
     "collapsed": false,
     "input": [
      "def inorder(t):\n",
      "    if t:\n",
      "        for x in inorder(t.left):\n",
      "            yield x\n",
      "        yield t.label\n",
      "        for x in inorder(t.right):\n",
      "            yield x"
     ],
     "language": "python",
     "metadata": {
      "slideshow": {
       "slide_type": "fragment"
      }
     },
     "outputs": [],
     "prompt_number": 44
    },
    {
     "cell_type": "code",
     "collapsed": false,
     "input": [
      "class SomeTree:\n",
      "    \n",
      "    def __iter__(self):\n",
      "        for x in inorder(self.left):\n",
      "            yield x\n",
      "        yield self.label\n",
      "        for x in inorder(self.right):\n",
      "            yield x"
     ],
     "language": "python",
     "metadata": {
      "slideshow": {
       "slide_type": "fragment"
      }
     },
     "outputs": []
    },
    {
     "cell_type": "markdown",
     "metadata": {
      "slideshow": {
       "slide_type": "slide"
      }
     },
     "source": [
      "### Itertools"
     ]
    },
    {
     "cell_type": "code",
     "collapsed": false,
     "input": [
      "[el for el in dir(itertools) if callable(getattr(itertools, el))]"
     ],
     "language": "python",
     "metadata": {
      "slideshow": {
       "slide_type": "fragment"
      }
     },
     "outputs": [
      {
       "metadata": {},
       "output_type": "pyout",
       "prompt_number": 74,
       "text": [
        "['chain',\n",
        " 'combinations',\n",
        " 'combinations_with_replacement',\n",
        " 'compress',\n",
        " 'count',\n",
        " 'cycle',\n",
        " 'dropwhile',\n",
        " 'groupby',\n",
        " 'ifilter',\n",
        " 'ifilterfalse',\n",
        " 'imap',\n",
        " 'islice',\n",
        " 'izip',\n",
        " 'izip_longest',\n",
        " 'permutations',\n",
        " 'product',\n",
        " 'repeat',\n",
        " 'starmap',\n",
        " 'takewhile',\n",
        " 'tee']"
       ]
      }
     ],
     "prompt_number": 74
    },
    {
     "cell_type": "markdown",
     "metadata": {
      "slideshow": {
       "slide_type": "notes"
      }
     },
     "source": [
      "- No one knows everything in itertools\n",
      "- Everytime you have an iteration problem, lookup itertools"
     ]
    },
    {
     "cell_type": "markdown",
     "metadata": {
      "slideshow": {
       "slide_type": "slide"
      }
     },
     "source": [
      "### Generator tools"
     ]
    },
    {
     "cell_type": "code",
     "collapsed": false,
     "input": [
      "range(5)[2:4]"
     ],
     "language": "python",
     "metadata": {
      "slideshow": {
       "slide_type": "fragment"
      }
     },
     "outputs": [
      {
       "metadata": {},
       "output_type": "pyout",
       "prompt_number": 56,
       "text": [
        "[2, 3]"
       ]
      }
     ],
     "prompt_number": 56
    },
    {
     "cell_type": "code",
     "collapsed": false,
     "input": [
      "xrange(5)[2:5]"
     ],
     "language": "python",
     "metadata": {
      "slideshow": {
       "slide_type": "fragment"
      }
     },
     "outputs": [
      {
       "ename": "TypeError",
       "evalue": "sequence index must be integer, not 'slice'",
       "output_type": "pyerr",
       "traceback": [
        "\u001b[0;31m---------------------------------------------------------------------------\u001b[0m\n\u001b[0;31mTypeError\u001b[0m                                 Traceback (most recent call last)",
        "\u001b[0;32m<ipython-input-55-dd5026e64892>\u001b[0m in \u001b[0;36m<module>\u001b[0;34m()\u001b[0m\n\u001b[0;32m----> 1\u001b[0;31m \u001b[0mxrange\u001b[0m\u001b[0;34m(\u001b[0m\u001b[0;36m5\u001b[0m\u001b[0;34m)\u001b[0m\u001b[0;34m[\u001b[0m\u001b[0;36m2\u001b[0m\u001b[0;34m:\u001b[0m\u001b[0;36m5\u001b[0m\u001b[0;34m]\u001b[0m\u001b[0;34m\u001b[0m\u001b[0m\n\u001b[0m",
        "\u001b[0;31mTypeError\u001b[0m: sequence index must be integer, not 'slice'"
       ]
      }
     ],
     "prompt_number": 55
    },
    {
     "cell_type": "code",
     "collapsed": false,
     "input": [
      "itertools.islice(xrange(5),2,4)"
     ],
     "language": "python",
     "metadata": {
      "slideshow": {
       "slide_type": "fragment"
      }
     },
     "outputs": [
      {
       "metadata": {},
       "output_type": "pyout",
       "prompt_number": 59,
       "text": [
        "<itertools.islice at 0x10a771050>"
       ]
      }
     ],
     "prompt_number": 59
    },
    {
     "cell_type": "code",
     "collapsed": false,
     "input": [
      "list(itertools.islice(xrange(5),2,4))"
     ],
     "language": "python",
     "metadata": {
      "slideshow": {
       "slide_type": "fragment"
      }
     },
     "outputs": [
      {
       "metadata": {},
       "output_type": "pyout",
       "prompt_number": 60,
       "text": [
        "[2, 3]"
       ]
      }
     ],
     "prompt_number": 60
    }
   ],
   "metadata": {}
  }
 ]
}