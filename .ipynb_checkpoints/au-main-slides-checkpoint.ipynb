{
 "metadata": {
  "name": "au-main-slides"
 },
 "nbformat": 3,
 "nbformat_minor": 0,
 "worksheets": [
  {
   "cells": [
    {
     "cell_type": "markdown",
     "metadata": {
      "slideshow": {
       "slide_type": "slide"
      }
     },
     "source": [
      "Pythonic Iterators and Generators\n",
      "---------------------------------\n",
      "\n",
      "Lakshman Prasad\n",
      "\n",
      "Pycon AU 2013, Hobart"
     ]
    },
    {
     "cell_type": "markdown",
     "metadata": {
      "slideshow": {
       "slide_type": "notes"
      }
     },
     "source": [
      "Work for Mc, Mc does MC. I work for a fairly newly created division which provides technology solutions to them.\n",
      "\n",
      "My primary expertise has been in Python eco system and it's set of tools.\n",
      "\n",
      "I have never done an intro level talk. Particularly filling in after the great session by Peter is hard. But I'll see what I can do. This talk starts from an intro level and then gets into fairly advanced levels. So if you are an advanced user, stay back and we will hopefully have something for discussion.\n",
      "\n",
      "I had a great time at the conference BTW. Such a nice city, so well organised, nice lunch. Since you just had lunch - Lets go through some qs. Dont worry if you are not able to answer it, by the end of the session, hopefully, you'll be in a position to."
     ]
    },
    {
     "cell_type": "markdown",
     "metadata": {
      "slideshow": {
       "slide_type": "slide"
      }
     },
     "source": [
      "Dictionary of states mapped to capitals"
     ]
    },
    {
     "cell_type": "code",
     "collapsed": false,
     "input": [
      "states = ['NSW', 'NT', 'QLD', 'SA', 'TAS', 'VIC', 'WA']"
     ],
     "language": "python",
     "metadata": {
      "slideshow": {
       "slide_type": "skip"
      }
     },
     "outputs": [],
     "prompt_number": 1
    },
    {
     "cell_type": "code",
     "collapsed": false,
     "input": [
      "print states"
     ],
     "language": "python",
     "metadata": {
      "slideshow": {
       "slide_type": "fragment"
      }
     },
     "outputs": [
      {
       "output_type": "stream",
       "stream": "stdout",
       "text": [
        "['NSW', 'NT', 'QLD', 'SA', 'TAS', 'VIC', 'WA']\n"
       ]
      }
     ],
     "prompt_number": 2
    },
    {
     "cell_type": "code",
     "collapsed": false,
     "input": [
      "capitals = ['Sydney', 'Darwin', 'Brisbane', 'Adelaide', 'Hobart', 'Melbourne', 'Perth']"
     ],
     "language": "python",
     "metadata": {
      "slideshow": {
       "slide_type": "skip"
      }
     },
     "outputs": [],
     "prompt_number": 3
    },
    {
     "cell_type": "code",
     "collapsed": false,
     "input": [
      "print capitals"
     ],
     "language": "python",
     "metadata": {
      "slideshow": {
       "slide_type": "fragment"
      }
     },
     "outputs": [
      {
       "output_type": "stream",
       "stream": "stdout",
       "text": [
        "['Sydney', 'Darwin', 'Brisbane', 'Adelaide', 'Hobart', 'Melbourne', 'Perth']\n"
       ]
      }
     ],
     "prompt_number": 4
    },
    {
     "cell_type": "code",
     "collapsed": false,
     "input": [
      "dict(zip(states,capitals))"
     ],
     "language": "python",
     "metadata": {
      "slideshow": {
       "slide_type": "fragment"
      }
     },
     "outputs": [
      {
       "metadata": {},
       "output_type": "pyout",
       "prompt_number": 5,
       "text": [
        "{'NSW': 'Sydney',\n",
        " 'NT': 'Darwin',\n",
        " 'QLD': 'Brisbane',\n",
        " 'SA': 'Adelaide',\n",
        " 'TAS': 'Hobart',\n",
        " 'VIC': 'Melbourne',\n",
        " 'WA': 'Perth'}"
       ]
      }
     ],
     "prompt_number": 5
    },
    {
     "cell_type": "markdown",
     "metadata": {
      "slideshow": {
       "slide_type": "slide"
      }
     },
     "source": [
      "Flatten lists"
     ]
    },
    {
     "cell_type": "code",
     "collapsed": false,
     "input": [
      "import itertools, operator\n",
      "list_of_lists = [['A','B','C'],['D','E'],['F'],['G','H']]"
     ],
     "language": "python",
     "metadata": {
      "slideshow": {
       "slide_type": "skip"
      }
     },
     "outputs": [],
     "prompt_number": 14
    },
    {
     "cell_type": "code",
     "collapsed": false,
     "input": [
      "print list_of_lists"
     ],
     "language": "python",
     "metadata": {
      "slideshow": {
       "slide_type": "fragment"
      }
     },
     "outputs": [
      {
       "output_type": "stream",
       "stream": "stdout",
       "text": [
        "[['A', 'B', 'C'], ['D', 'E'], ['F'], ['G', 'H']]\n"
       ]
      }
     ],
     "prompt_number": 7
    },
    {
     "cell_type": "code",
     "collapsed": false,
     "input": [
      "sum(list_of_lists,[])"
     ],
     "language": "python",
     "metadata": {
      "slideshow": {
       "slide_type": "fragment"
      }
     },
     "outputs": [
      {
       "metadata": {},
       "output_type": "pyout",
       "prompt_number": 8,
       "text": [
        "['A', 'B', 'C', 'D', 'E', 'F', 'G', 'H']"
       ]
      }
     ],
     "prompt_number": 8
    },
    {
     "cell_type": "code",
     "collapsed": false,
     "input": [
      "reduce(operator.add, map(list, list_of_lists))"
     ],
     "language": "python",
     "metadata": {
      "slideshow": {
       "slide_type": "fragment"
      }
     },
     "outputs": [
      {
       "metadata": {},
       "output_type": "pyout",
       "prompt_number": 16,
       "text": [
        "['A', 'B', 'C', 'D', 'E', 'F', 'G', 'H']"
       ]
      }
     ],
     "prompt_number": 16
    },
    {
     "cell_type": "code",
     "collapsed": false,
     "input": [
      "list(itertools.chain(*list_of_lists))"
     ],
     "language": "python",
     "metadata": {
      "slideshow": {
       "slide_type": "fragment"
      }
     },
     "outputs": [
      {
       "metadata": {},
       "output_type": "pyout",
       "prompt_number": 17,
       "text": [
        "['A', 'B', 'C', 'D', 'E', 'F', 'G', 'H']"
       ]
      }
     ],
     "prompt_number": 17
    },
    {
     "cell_type": "code",
     "collapsed": false,
     "input": [
      "list(itertools.chain.from_iterable(list_of_lists))"
     ],
     "language": "python",
     "metadata": {
      "slideshow": {
       "slide_type": "fragment"
      }
     },
     "outputs": [
      {
       "metadata": {},
       "output_type": "pyout",
       "prompt_number": 11,
       "text": [
        "['A', 'B', 'C', 'D', 'E', 'D', 'E', 'F', 'G', 'H']"
       ]
      }
     ],
     "prompt_number": 11
    },
    {
     "cell_type": "code",
     "collapsed": false,
     "input": [
      "[x for each_list in list_of_lists for x in each_list]"
     ],
     "language": "python",
     "metadata": {
      "slideshow": {
       "slide_type": "fragment"
      }
     },
     "outputs": [
      {
       "metadata": {},
       "output_type": "pyout",
       "prompt_number": 13,
       "text": [
        "['A', 'B', 'C', 'D', 'E', 'D', 'E', 'F', 'G', 'H']"
       ]
      }
     ],
     "prompt_number": 13
    },
    {
     "cell_type": "markdown",
     "metadata": {
      "slideshow": {
       "slide_type": "fragment"
      }
     },
     "source": [
      "Product of a,b,c and 1,2"
     ]
    },
    {
     "cell_type": "code",
     "collapsed": false,
     "input": [
      "list(itertools.product(['a','b','c'],[1,2]))"
     ],
     "language": "python",
     "metadata": {
      "slideshow": {
       "slide_type": "fragment"
      }
     },
     "outputs": [
      {
       "metadata": {},
       "output_type": "pyout",
       "prompt_number": 18,
       "text": [
        "[('a', 1), ('a', 2), ('b', 1), ('b', 2), ('c', 1), ('c', 2)]"
       ]
      }
     ],
     "prompt_number": 18
    },
    {
     "cell_type": "markdown",
     "metadata": {
      "slideshow": {
       "slide_type": "slide"
      }
     },
     "source": [
      "Powerset of a range of values"
     ]
    },
    {
     "cell_type": "code",
     "collapsed": false,
     "input": [
      "elements = range(3)\n",
      "list(itertools.combinations(elements,2))"
     ],
     "language": "python",
     "metadata": {
      "slideshow": {
       "slide_type": "fragment"
      }
     },
     "outputs": [
      {
       "metadata": {},
       "output_type": "pyout",
       "prompt_number": 19,
       "text": [
        "[(0, 1), (0, 2), (1, 2)]"
       ]
      }
     ],
     "prompt_number": 19
    },
    {
     "cell_type": "code",
     "collapsed": false,
     "input": [
      "list(itertools.chain.from_iterable(itertools.combinations(elements, r) for r in range(len(elements)+1)))"
     ],
     "language": "python",
     "metadata": {
      "slideshow": {
       "slide_type": "fragment"
      }
     },
     "outputs": [
      {
       "metadata": {},
       "output_type": "pyout",
       "prompt_number": 20,
       "text": [
        "[(), (0,), (1,), (2,), (0, 1), (0, 2), (1, 2), (0, 1, 2)]"
       ]
      }
     ],
     "prompt_number": 20
    },
    {
     "cell_type": "markdown",
     "metadata": {
      "slideshow": {
       "slide_type": "slide"
      }
     },
     "source": [
      "Iterables"
     ]
    },
    {
     "cell_type": "code",
     "collapsed": false,
     "input": [
      "print [el for el in range(5)]"
     ],
     "language": "python",
     "metadata": {
      "slideshow": {
       "slide_type": "fragment"
      }
     },
     "outputs": []
    },
    {
     "cell_type": "code",
     "collapsed": false,
     "input": [
      "print [el for el in 'PYCON AU']"
     ],
     "language": "python",
     "metadata": {
      "slideshow": {
       "slide_type": "fragment"
      }
     },
     "outputs": []
    },
    {
     "cell_type": "code",
     "collapsed": false,
     "input": [
      "import os\n",
      "list(os.walk('~/gh/'))"
     ],
     "language": "python",
     "metadata": {},
     "outputs": []
    },
    {
     "cell_type": "code",
     "collapsed": false,
     "input": [
      "class Fib:\n",
      "    '''iterator that yields numbers in the Fibonacci sequence'''\n",
      "\n",
      "    def __init__(self, max):\n",
      "        self.max = max\n",
      "\n",
      "    def __iter__(self):\n",
      "        self.a = 0\n",
      "        self.b = 1\n",
      "        return self\n",
      "\n",
      "    def __next__(self):\n",
      "        fib = self.a\n",
      "        if fib > self.max:\n",
      "            raise StopIteration\n",
      "        self.a, self.b = self.b, self.a + self.b\n",
      "        return fib"
     ],
     "language": "python",
     "metadata": {},
     "outputs": []
    },
    {
     "cell_type": "markdown",
     "metadata": {},
     "source": [
      "http://www.shutupandship.com/2012/01/understanding-python-iterables-and.html"
     ]
    },
    {
     "cell_type": "markdown",
     "metadata": {},
     "source": [
      "http://stackoverflow.com/questions/231767/the-python-yield-keyword-explained"
     ]
    },
    {
     "cell_type": "code",
     "collapsed": false,
     "input": [
      "range(3)"
     ],
     "language": "python",
     "metadata": {},
     "outputs": []
    },
    {
     "cell_type": "code",
     "collapsed": false,
     "input": [
      "a,b,c,d = itertools.tee(range(3),4)"
     ],
     "language": "python",
     "metadata": {},
     "outputs": []
    },
    {
     "cell_type": "code",
     "collapsed": false,
     "input": [
      "iter(a)"
     ],
     "language": "python",
     "metadata": {},
     "outputs": []
    },
    {
     "cell_type": "code",
     "collapsed": false,
     "input": [
      "iter?"
     ],
     "language": "python",
     "metadata": {},
     "outputs": []
    },
    {
     "cell_type": "code",
     "collapsed": false,
     "input": [],
     "language": "python",
     "metadata": {},
     "outputs": []
    }
   ],
   "metadata": {}
  }
 ]
}